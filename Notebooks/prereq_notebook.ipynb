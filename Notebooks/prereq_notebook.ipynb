{
 "cells": [
  {
   "cell_type": "code",
   "execution_count": null,
   "id": "fc1c5893",
   "metadata": {},
   "outputs": [],
   "source": [
    "print(\"Hello, World!\")\n",
    "\n",
    "('My name is Sarah. I'm 36 and I live in Louisville. I was an engineering major in college but never graduated. All that to say I have a knack for problem solving. I'm excited to learn Python! I have friends and family in tech and they have convinced me I would be really good at coding, so here I am. Looking into various roles, I am most interested in data analytics and QA engineering. )\n",
    " "
   ]
  }
 ],
 "metadata": {
  "language_info": {
   "name": "python"
  }
 },
 "nbformat": 4,
 "nbformat_minor": 5
}
